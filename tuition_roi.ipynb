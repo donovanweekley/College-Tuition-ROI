{
 "cells": [
  {
   "cell_type": "markdown",
   "id": "90159fcc",
   "metadata": {},
   "source": [
    "\n",
    "\n",
    "# **College Tuition ROI Analysis**\n",
    "\n",
    "Goal: This notebook aims to calculate a Return on Investment (ROI) metric for various US colleges using data from the College Scorecard and national earnings benchmarks.\n",
    "\n",
    "**Data Sources**:\n",
    "\n",
    "Most-Recent-Cohorts-Institution_05192025.csv: Institutional data from the US Department of Education's College Scorecard.\n",
    "\n",
    "p24.xlsx: Data on median earnings by educational attainment, likely from ACS/CPS tables, used to establish baseline earnings.\n",
    "\n",
    "First, let's import the necessary libraries (pandas for data manipulation, re for potential text processing, matplotlib, seaborn, and plotly for visualizations) and load the datasets into pandas DataFrames. Note: The DtypeWarning suggests some columns in the College Scorecard have mixed data types, which might require cleaning later."
   ]
  },
  {
   "cell_type": "code",
   "execution_count": 1,
   "id": "c062d6cd",
   "metadata": {},
   "outputs": [
    {
     "name": "stderr",
     "output_type": "stream",
     "text": [
      "C:\\Users\\Donovan\\AppData\\Local\\Temp\\ipykernel_11268\\1670060136.py:6: DtypeWarning: Columns (9,1407,1408,1431,1432,1532,1537,1538,1539,1540,1542,1546,1589,1601,1602,1606,1608,1611,1614,1615,1616,1619,1620,1621,1622,1623,1624,1625,1626,1627,1628,1629,1653,1679,1690,1692,1697,1700,1702,1725,1726,1727,1728,1729,1743,1815,1816,1817,1818,1823,1824,1830,1831,1879,1880,1881,1882,1883,1884,1885,1886,1887,1888,1889,1890,1891,1892,1893,1894,1895,1896,1897,1898,1909,1910,1911,1912,1913,1957,1958,1959,1960,1961,1962,1963,1964,1965,1966,1967,1968,1969,1970,1971,1972,1973,1974,1975,1976,1983,1984,2376,2377,2403,2404,2495,2496,2497,2498,2499,2500,2501,2502,2503,2504,2505,2506,2507,2508,2509,2510,2511,2512,2513,2514,2515,2516,2517,2518,2519,2520,2521,2522,2523,2524,2525,2526,2527,2528,2529,2530,2958,3215,3231,3235,3236) have mixed types. Specify dtype option on import or set low_memory=False.\n",
      "  College_Scorecard = pd.read_csv(\"Most-Recent-Cohorts-Institution_05192025.csv\")\n"
     ]
    }
   ],
   "source": [
    "import pandas as pd\n",
    "import re\n",
    "import matplotlib.pyplot as plt\n",
    "import seaborn as sns\n",
    "import plotly.express as px\n",
    "College_Scorecard = pd.read_csv(\"Most-Recent-Cohorts-Institution_05192025.csv\")\n",
    "Income_by_Ed = pd.read_excel(\"p24.xlsx\")\n"
   ]
  },
  {
   "cell_type": "code",
   "execution_count": null,
   "id": "93cc1284",
   "metadata": {},
   "outputs": [
    {
     "name": "stdout",
     "output_type": "stream",
     "text": [
      "High School Baseline: {'year': 2024, 'male': 55400.0, 'female': 42020.0, 'avg': 48710.0}\n",
      "Bachelor's Degree Baseline: {'year': 2024, 'male': 103100.0, 'female': 80070.0, 'avg': 91585.0}\n"
     ]
    }
   ],
   "source": [
    "#This funtion grabs the median earnings from the \"Income by Education level data\"\n",
    "def get_median_earnings(\n",
    "    path: str,\n",
    "    education_level: str,\n",
    "    year: int | None = None,\n",
    "    dollars: str = \"2024\"\n",
    "):\n",
    "    \"\"\"\n",
    "    Read the ACS/CPS Table P-24 Excel export and return median earnings\n",
    "    for a given education level and year.\n",
    "    \"\"\"\n",
    "    # This block is inside the function, so it's indented 4 spaces\n",
    "    raw = pd.read_excel(path, header=None, dtype=str)\n",
    "\n",
    "    mask = raw[0].str.contains(education_level, case=False, na=False)\n",
    "    if not mask.any():\n",
    "        # This line is inside the 'if' block, so it's indented another 4 spaces (8 total)\n",
    "        raise ValueError(f\"Could not find the '{education_level}' section in the file.\")\n",
    "    start = mask[mask].index[0]\n",
    "\n",
    "    # In these tables, the next row after the label is the header row for the block.\n",
    "    # The data starts on start+1 and spans ~40 rows (1991–2024). We take columns A:G (0..6).\n",
    "    block = raw.iloc[start+1:start+1+50, 0:7].copy()\n",
    "\n",
    "    # Rename columns to something usable\n",
    "    block.columns = [\n",
    "        \"Year\",\n",
    "        \"Num_with_earnings_male\",\n",
    "        \"Male_current\",\n",
    "        \"Male_2024\",\n",
    "        \"Num_with_earnings_female\",\n",
    "        \"Female_current\",\n",
    "        \"Female_2024\",\n",
    "    ]\n",
    "\n",
    "    # Keep only rows that look like a year (e.g., \"2023\" or \"2021 (41)\")\n",
    "    block[\"Year\"] = block[\"Year\"].astype(str).str.extract(r\"(\\d{4})\")\n",
    "    block = block[block[\"Year\"].notna()]\n",
    "    block[\"Year\"] = block[\"Year\"].astype(int)\n",
    "\n",
    "    # Pick the column set (current vs 2024 dollars)\n",
    "    if dollars.lower().startswith(\"2024\"):\n",
    "        male_col = \"Male_2024\"\n",
    "        female_col = \"Female_2024\"\n",
    "    else:\n",
    "        male_col = \"Male_current\"\n",
    "        female_col = \"Female_current\"\n",
    "\n",
    "    # Clean numeric columns (remove commas, cast to float)\n",
    "    for c in [male_col, female_col]:\n",
    "        block[c] = (\n",
    "            block[c]\n",
    "            .astype(str)\n",
    "            .str.replace(\",\", \"\", regex=False)\n",
    "            .str.replace(\"\\u2212\", \"-\", regex=False)  # in case of unicode minus\n",
    "            .str.strip()\n",
    "        )\n",
    "        block[c] = pd.to_numeric(block[c], errors=\"coerce\")\n",
    "\n",
    "    # Choose target year (latest if None)\n",
    "    if year is None:\n",
    "        sel = block.sort_values(\"Year\", ascending=False).iloc[0]\n",
    "    else:\n",
    "        rows = block[block[\"Year\"] == year]\n",
    "        if rows.empty:\n",
    "            available = block[\"Year\"].unique()\n",
    "            raise ValueError(f\"Year {year} not found. Available years: {sorted(available)[0]}–{sorted(available)[-1]}\")\n",
    "        sel = rows.iloc[0]\n",
    "\n",
    "    male = float(sel[male_col])\n",
    "    female = float(sel[female_col])\n",
    "    avg = (male + female) / 2.0\n",
    "\n",
    "    return {\n",
    "        \"year\": int(sel[\"Year\"]),\n",
    "        \"male\": male,\n",
    "        \"female\": female,\n",
    "        \"avg\": avg,\n",
    "    }\n",
    "hs_baseline = get_median_earnings(\"p24.xlsx\", education_level=\"High school graduate\")\n",
    "ba_baseline = get_median_earnings(\"p24.xlsx\", education_level=\"Bachelor's Degree\")\n",
    "\n",
    "print(f\"High School Baseline: {hs_baseline}\")\n",
    "print(f\"Bachelor's Degree Baseline: {ba_baseline}\")"
   ]
  },
  {
   "cell_type": "markdown",
   "id": "24c9c399",
   "metadata": {},
   "source": [
    "## **Establish Baseline Earnings**\n",
    "\n",
    "This cell defines a function get_median_earnings designed to parse the p24.xlsx file. This file contains median earnings data broken down by education level, year, and gender.\n",
    "\n",
    "Function Logic:\n",
    "\n",
    "Reads the Excel file.\n",
    "\n",
    "Finds the section corresponding to the specified education_level.\n",
    "\n",
    "Extracts the data block for that level.\n",
    "\n",
    "Cleans the data (extracts years, handles formatting, converts to numeric).\n",
    "\n",
    "Selects earnings data for the target year (or latest if None) in the specified dollars (defaults to 2024-adjusted dollars).\n",
    "\n",
    "Returns a dictionary containing the year, median male earnings, median female earnings, and the average of the two.\n",
    "\n",
    "We then use this function to get the latest (2024) average median earnings for:\n",
    "\n",
    "High School Graduates: This will serve as our baseline for comparison.\n",
    "\n",
    "Bachelor's Degree Holders: Used for context or potential alternative comparisons (though not used directly in the ROI calculation later).\n",
    "\n",
    "The output shows the calculated baselines used in subsequent steps."
   ]
  },
  {
   "cell_type": "code",
   "execution_count": 3,
   "id": "7fe052a8",
   "metadata": {},
   "outputs": [],
   "source": [
    "#Now i need to make a more useful version of College_Board/Clean Data\n",
    "cols = [\"INSTNM\", \"STABBR\", \"MD_EARN_WNE_P10\", \"COSTT4_A\"]\n",
    "roi_df = College_Scorecard[cols].copy()\n",
    "#Handeling \"Privetly Supressed\"\n",
    "roi_df = roi_df[~roi_df[\"MD_EARN_WNE_P10\"].astype(str).str.contains(\"PS\")]\n",
    "roi_df = roi_df[~roi_df[\"COSTT4_A\"].astype(str).str.contains(\"PS\")]\n",
    "roi_df[\"MD_EARN_WNE_P10\"] = pd.to_numeric(roi_df[\"MD_EARN_WNE_P10\"], errors=\"coerce\")\n",
    "roi_df[\"COSTT4_A\"] = pd.to_numeric(roi_df[\"COSTT4_A\"], errors=\"coerce\")\n",
    "roi_df = roi_df.dropna().reset_index(drop=True)\n",
    "roi_df = roi_df.rename(columns={\n",
    "    \"MD_EARN_WNE_P10\": \"earn_10yr\",\n",
    "    \"COSTT4_A\": \"Cost_Per_Year\",\n",
    "    \"INSTNM\": \"School\",\n",
    "    \"STABBR\": \"State\"\n",
    "})\n",
    "#I am also going to create a new \"Total cost\" by Cost_Per_Year*4\n",
    "roi_df[\"Total_Cost\"] = roi_df['Cost_Per_Year'] * 4\n"
   ]
  },
  {
   "cell_type": "markdown",
   "id": "111c4463",
   "metadata": {},
   "source": [
    "## **Prepare College Scorecard Data**\n",
    "\n",
    "Now, we process the College_Scorecard data to isolate the columns relevant for our ROI calculation and clean them.\n",
    "\n",
    "### **Steps**:\n",
    "\n",
    "Select Columns: We choose the institution name (INSTNM), state (STABBR), median 10-year earnings (MD_EARN_WNE_P10), and average annual cost (COSTT4_A).\n",
    "\n",
    "Handle Suppressed Data: The College Scorecard uses \"PS\" (Privacy Suppressed) for some values. We remove rows where earnings or cost are marked as \"PS\".\n",
    "\n",
    "Convert to Numeric: We convert the earnings and cost columns to numeric types. errors=\"coerce\" turns any values that can't be converted (like remaining non-numeric strings) into NaN (Not a Number).\n",
    "\n",
    "Drop Missing Values: We remove any rows that contain NaN values resulting from the coercion or missing data.\n",
    "\n",
    "Rename Columns: We rename the columns to be more descriptive (earn_10yr, Cost_Per_Year, School, State).\n",
    "\n",
    "Calculate Total Cost: We estimate the Total_Cost of a 4-year degree by multiplying the Cost_Per_Year by 4. Note: This is a simplification; actual total cost can vary based on factors like time-to-degree and specific program costs.\n",
    "\n",
    "The resulting roi_df DataFrame contains the cleaned data ready for ROI metric calculation."
   ]
  },
  {
   "cell_type": "code",
   "execution_count": null,
   "id": "f906e84a",
   "metadata": {},
   "outputs": [
    {
     "data": {
      "text/html": [
       "<div>\n",
       "<style scoped>\n",
       "    .dataframe tbody tr th:only-of-type {\n",
       "        vertical-align: middle;\n",
       "    }\n",
       "\n",
       "    .dataframe tbody tr th {\n",
       "        vertical-align: top;\n",
       "    }\n",
       "\n",
       "    .dataframe thead th {\n",
       "        text-align: right;\n",
       "    }\n",
       "</style>\n",
       "<table border=\"1\" class=\"dataframe\">\n",
       "  <thead>\n",
       "    <tr style=\"text-align: right;\">\n",
       "      <th></th>\n",
       "      <th>School</th>\n",
       "      <th>State</th>\n",
       "      <th>earn_10yr</th>\n",
       "      <th>Cost_Per_Year</th>\n",
       "      <th>Total_Cost</th>\n",
       "      <th>earn_premium</th>\n",
       "    </tr>\n",
       "  </thead>\n",
       "  <tbody>\n",
       "    <tr>\n",
       "      <th>0</th>\n",
       "      <td>Alabama A &amp; M University</td>\n",
       "      <td>AL</td>\n",
       "      <td>40628.0</td>\n",
       "      <td>23751.0</td>\n",
       "      <td>95004.0</td>\n",
       "      <td>-8082.0</td>\n",
       "    </tr>\n",
       "    <tr>\n",
       "      <th>1</th>\n",
       "      <td>University of Alabama at Birmingham</td>\n",
       "      <td>AL</td>\n",
       "      <td>54501.0</td>\n",
       "      <td>27826.0</td>\n",
       "      <td>111304.0</td>\n",
       "      <td>5791.0</td>\n",
       "    </tr>\n",
       "    <tr>\n",
       "      <th>2</th>\n",
       "      <td>University of Alabama in Huntsville</td>\n",
       "      <td>AL</td>\n",
       "      <td>61767.0</td>\n",
       "      <td>27098.0</td>\n",
       "      <td>108392.0</td>\n",
       "      <td>13057.0</td>\n",
       "    </tr>\n",
       "    <tr>\n",
       "      <th>3</th>\n",
       "      <td>Alabama State University</td>\n",
       "      <td>AL</td>\n",
       "      <td>34502.0</td>\n",
       "      <td>22028.0</td>\n",
       "      <td>88112.0</td>\n",
       "      <td>-14208.0</td>\n",
       "    </tr>\n",
       "    <tr>\n",
       "      <th>4</th>\n",
       "      <td>The University of Alabama</td>\n",
       "      <td>AL</td>\n",
       "      <td>59221.0</td>\n",
       "      <td>32024.0</td>\n",
       "      <td>128096.0</td>\n",
       "      <td>10511.0</td>\n",
       "    </tr>\n",
       "    <tr>\n",
       "      <th>...</th>\n",
       "      <td>...</td>\n",
       "      <td>...</td>\n",
       "      <td>...</td>\n",
       "      <td>...</td>\n",
       "      <td>...</td>\n",
       "      <td>...</td>\n",
       "    </tr>\n",
       "    <tr>\n",
       "      <th>3070</th>\n",
       "      <td>Arizona College of Nursing-Falls Church</td>\n",
       "      <td>VA</td>\n",
       "      <td>34657.0</td>\n",
       "      <td>38123.0</td>\n",
       "      <td>152492.0</td>\n",
       "      <td>-14053.0</td>\n",
       "    </tr>\n",
       "    <tr>\n",
       "      <th>3071</th>\n",
       "      <td>Arizona College of Nursing-Ontario</td>\n",
       "      <td>CA</td>\n",
       "      <td>34657.0</td>\n",
       "      <td>43703.0</td>\n",
       "      <td>174812.0</td>\n",
       "      <td>-14053.0</td>\n",
       "    </tr>\n",
       "    <tr>\n",
       "      <th>3072</th>\n",
       "      <td>Galen Health Institutes-Pikeville</td>\n",
       "      <td>KY</td>\n",
       "      <td>61480.0</td>\n",
       "      <td>42163.0</td>\n",
       "      <td>168652.0</td>\n",
       "      <td>12770.0</td>\n",
       "    </tr>\n",
       "    <tr>\n",
       "      <th>3073</th>\n",
       "      <td>Commonwealth University of Pennsylvania</td>\n",
       "      <td>PA</td>\n",
       "      <td>52416.0</td>\n",
       "      <td>25781.0</td>\n",
       "      <td>103124.0</td>\n",
       "      <td>3706.0</td>\n",
       "    </tr>\n",
       "    <tr>\n",
       "      <th>3074</th>\n",
       "      <td>Pennsylvania Western University</td>\n",
       "      <td>PA</td>\n",
       "      <td>47295.0</td>\n",
       "      <td>27618.0</td>\n",
       "      <td>110472.0</td>\n",
       "      <td>-1415.0</td>\n",
       "    </tr>\n",
       "  </tbody>\n",
       "</table>\n",
       "<p>3075 rows × 6 columns</p>\n",
       "</div>"
      ],
      "text/plain": [
       "                                       School State  earn_10yr  Cost_Per_Year  \\\n",
       "0                    Alabama A & M University    AL    40628.0        23751.0   \n",
       "1         University of Alabama at Birmingham    AL    54501.0        27826.0   \n",
       "2         University of Alabama in Huntsville    AL    61767.0        27098.0   \n",
       "3                    Alabama State University    AL    34502.0        22028.0   \n",
       "4                   The University of Alabama    AL    59221.0        32024.0   \n",
       "...                                       ...   ...        ...            ...   \n",
       "3070  Arizona College of Nursing-Falls Church    VA    34657.0        38123.0   \n",
       "3071       Arizona College of Nursing-Ontario    CA    34657.0        43703.0   \n",
       "3072        Galen Health Institutes-Pikeville    KY    61480.0        42163.0   \n",
       "3073  Commonwealth University of Pennsylvania    PA    52416.0        25781.0   \n",
       "3074          Pennsylvania Western University    PA    47295.0        27618.0   \n",
       "\n",
       "      Total_Cost  earn_premium  \n",
       "0        95004.0       -8082.0  \n",
       "1       111304.0        5791.0  \n",
       "2       108392.0       13057.0  \n",
       "3        88112.0      -14208.0  \n",
       "4       128096.0       10511.0  \n",
       "...          ...           ...  \n",
       "3070    152492.0      -14053.0  \n",
       "3071    174812.0      -14053.0  \n",
       "3072    168652.0       12770.0  \n",
       "3073    103124.0        3706.0  \n",
       "3074    110472.0       -1415.0  \n",
       "\n",
       "[3075 rows x 6 columns]"
      ]
     },
     "execution_count": 4,
     "metadata": {},
     "output_type": "execute_result"
    }
   ],
   "source": [
    "#Making earn premium collumn\n",
    "roi_df[\"earn_premium\"] = roi_df[\"earn_10yr\"] - hs_baseline[\"avg\"]\n",
    "roi_df"
   ]
  },
  {
   "cell_type": "markdown",
   "id": "b4cc8162",
   "metadata": {},
   "source": [
    "## **Calculate Earnings Premium**\n",
    "\n",
    "The first key ROI metric is the Earnings Premium. This represents how much more (or less) the median graduate from a specific college earns 10 years after entry compared to the average high school graduate baseline calculated earlier (hs_baseline[\"avg\"]).\n",
    "\n",
    "We calculate this by subtracting the high school baseline average earnings from each school's earn_10yr.\n",
    "\n",
    "Observation: \n",
    "Some schools show a negative earnings premium. This suggests that, based on this data, the median graduate from these institutions earns less 10 years after entry than the average high school graduate nationwide. This could be due to various factors, including the specific programs offered, regional economic differences, student demographics, or data limitations."
   ]
  },
  {
   "cell_type": "code",
   "execution_count": null,
   "id": "44ac5535",
   "metadata": {},
   "outputs": [
    {
     "data": {
      "text/html": [
       "<div>\n",
       "<style scoped>\n",
       "    .dataframe tbody tr th:only-of-type {\n",
       "        vertical-align: middle;\n",
       "    }\n",
       "\n",
       "    .dataframe tbody tr th {\n",
       "        vertical-align: top;\n",
       "    }\n",
       "\n",
       "    .dataframe thead th {\n",
       "        text-align: right;\n",
       "    }\n",
       "</style>\n",
       "<table border=\"1\" class=\"dataframe\">\n",
       "  <thead>\n",
       "    <tr style=\"text-align: right;\">\n",
       "      <th></th>\n",
       "      <th>School</th>\n",
       "      <th>State</th>\n",
       "      <th>earn_10yr</th>\n",
       "      <th>Cost_Per_Year</th>\n",
       "      <th>Total_Cost</th>\n",
       "      <th>earn_premium</th>\n",
       "      <th>break_even_years</th>\n",
       "    </tr>\n",
       "  </thead>\n",
       "  <tbody>\n",
       "    <tr>\n",
       "      <th>0</th>\n",
       "      <td>Alabama A &amp; M University</td>\n",
       "      <td>AL</td>\n",
       "      <td>40628.0</td>\n",
       "      <td>23751.0</td>\n",
       "      <td>95004.0</td>\n",
       "      <td>-8082.0</td>\n",
       "      <td>-11.755011</td>\n",
       "    </tr>\n",
       "    <tr>\n",
       "      <th>1</th>\n",
       "      <td>University of Alabama at Birmingham</td>\n",
       "      <td>AL</td>\n",
       "      <td>54501.0</td>\n",
       "      <td>27826.0</td>\n",
       "      <td>111304.0</td>\n",
       "      <td>5791.0</td>\n",
       "      <td>19.220169</td>\n",
       "    </tr>\n",
       "    <tr>\n",
       "      <th>2</th>\n",
       "      <td>University of Alabama in Huntsville</td>\n",
       "      <td>AL</td>\n",
       "      <td>61767.0</td>\n",
       "      <td>27098.0</td>\n",
       "      <td>108392.0</td>\n",
       "      <td>13057.0</td>\n",
       "      <td>8.301447</td>\n",
       "    </tr>\n",
       "    <tr>\n",
       "      <th>3</th>\n",
       "      <td>Alabama State University</td>\n",
       "      <td>AL</td>\n",
       "      <td>34502.0</td>\n",
       "      <td>22028.0</td>\n",
       "      <td>88112.0</td>\n",
       "      <td>-14208.0</td>\n",
       "      <td>-6.201577</td>\n",
       "    </tr>\n",
       "    <tr>\n",
       "      <th>4</th>\n",
       "      <td>The University of Alabama</td>\n",
       "      <td>AL</td>\n",
       "      <td>59221.0</td>\n",
       "      <td>32024.0</td>\n",
       "      <td>128096.0</td>\n",
       "      <td>10511.0</td>\n",
       "      <td>12.186852</td>\n",
       "    </tr>\n",
       "    <tr>\n",
       "      <th>...</th>\n",
       "      <td>...</td>\n",
       "      <td>...</td>\n",
       "      <td>...</td>\n",
       "      <td>...</td>\n",
       "      <td>...</td>\n",
       "      <td>...</td>\n",
       "      <td>...</td>\n",
       "    </tr>\n",
       "    <tr>\n",
       "      <th>3070</th>\n",
       "      <td>Arizona College of Nursing-Falls Church</td>\n",
       "      <td>VA</td>\n",
       "      <td>34657.0</td>\n",
       "      <td>38123.0</td>\n",
       "      <td>152492.0</td>\n",
       "      <td>-14053.0</td>\n",
       "      <td>-10.851206</td>\n",
       "    </tr>\n",
       "    <tr>\n",
       "      <th>3071</th>\n",
       "      <td>Arizona College of Nursing-Ontario</td>\n",
       "      <td>CA</td>\n",
       "      <td>34657.0</td>\n",
       "      <td>43703.0</td>\n",
       "      <td>174812.0</td>\n",
       "      <td>-14053.0</td>\n",
       "      <td>-12.439479</td>\n",
       "    </tr>\n",
       "    <tr>\n",
       "      <th>3072</th>\n",
       "      <td>Galen Health Institutes-Pikeville</td>\n",
       "      <td>KY</td>\n",
       "      <td>61480.0</td>\n",
       "      <td>42163.0</td>\n",
       "      <td>168652.0</td>\n",
       "      <td>12770.0</td>\n",
       "      <td>13.206891</td>\n",
       "    </tr>\n",
       "    <tr>\n",
       "      <th>3073</th>\n",
       "      <td>Commonwealth University of Pennsylvania</td>\n",
       "      <td>PA</td>\n",
       "      <td>52416.0</td>\n",
       "      <td>25781.0</td>\n",
       "      <td>103124.0</td>\n",
       "      <td>3706.0</td>\n",
       "      <td>27.826228</td>\n",
       "    </tr>\n",
       "    <tr>\n",
       "      <th>3074</th>\n",
       "      <td>Pennsylvania Western University</td>\n",
       "      <td>PA</td>\n",
       "      <td>47295.0</td>\n",
       "      <td>27618.0</td>\n",
       "      <td>110472.0</td>\n",
       "      <td>-1415.0</td>\n",
       "      <td>-78.072085</td>\n",
       "    </tr>\n",
       "  </tbody>\n",
       "</table>\n",
       "<p>3075 rows × 7 columns</p>\n",
       "</div>"
      ],
      "text/plain": [
       "                                       School State  earn_10yr  Cost_Per_Year  \\\n",
       "0                    Alabama A & M University    AL    40628.0        23751.0   \n",
       "1         University of Alabama at Birmingham    AL    54501.0        27826.0   \n",
       "2         University of Alabama in Huntsville    AL    61767.0        27098.0   \n",
       "3                    Alabama State University    AL    34502.0        22028.0   \n",
       "4                   The University of Alabama    AL    59221.0        32024.0   \n",
       "...                                       ...   ...        ...            ...   \n",
       "3070  Arizona College of Nursing-Falls Church    VA    34657.0        38123.0   \n",
       "3071       Arizona College of Nursing-Ontario    CA    34657.0        43703.0   \n",
       "3072        Galen Health Institutes-Pikeville    KY    61480.0        42163.0   \n",
       "3073  Commonwealth University of Pennsylvania    PA    52416.0        25781.0   \n",
       "3074          Pennsylvania Western University    PA    47295.0        27618.0   \n",
       "\n",
       "      Total_Cost  earn_premium  break_even_years  \n",
       "0        95004.0       -8082.0        -11.755011  \n",
       "1       111304.0        5791.0         19.220169  \n",
       "2       108392.0       13057.0          8.301447  \n",
       "3        88112.0      -14208.0         -6.201577  \n",
       "4       128096.0       10511.0         12.186852  \n",
       "...          ...           ...               ...  \n",
       "3070    152492.0      -14053.0        -10.851206  \n",
       "3071    174812.0      -14053.0        -12.439479  \n",
       "3072    168652.0       12770.0         13.206891  \n",
       "3073    103124.0        3706.0         27.826228  \n",
       "3074    110472.0       -1415.0        -78.072085  \n",
       "\n",
       "[3075 rows x 7 columns]"
      ]
     },
     "execution_count": 5,
     "metadata": {},
     "output_type": "execute_result"
    }
   ],
   "source": [
    "#Making a collumn to see how long it takes to pay back based on earn premium\n",
    "roi_df['break_even_years'] = roi_df['Total_Cost'] / roi_df['earn_premium']\n",
    "roi_df"
   ]
  },
  {
   "cell_type": "markdown",
   "id": "667d5b2b",
   "metadata": {},
   "source": [
    "## **Calculate Break-Even Years**\n",
    "\n",
    "The second key ROI metric is the Break-Even Years. This estimates how many years it would take for the additional earnings gained by attending college (the earn_premium) to cover the Total_Cost of the degree.\n",
    "\n",
    "We calculate this by dividing the Total_Cost by the earn_premium.\n",
    "\n",
    "### **Interpretation**:\n",
    "\n",
    "A lower positive number indicates a faster return on the financial investment.\n",
    "\n",
    "A negative number here results from a negative earn_premium. It implies that, based on these metrics, the cost of the degree would never be recouped through the earnings premium alone, as the graduate earns less than the baseline.\n",
    "\n",
    "Very high positive numbers suggest a very long payback period."
   ]
  },
  {
   "cell_type": "code",
   "execution_count": null,
   "id": "21655d67",
   "metadata": {},
   "outputs": [
    {
     "data": {
      "image/png": "[encoded data removed]",
      "text/plain": [
       "<Figure size 1000x600 with 1 Axes>"
      ]
     },
     "metadata": {},
     "output_type": "display_data"
    }
   ],
   "source": [
    "positive_roi_df = roi_df[roi_df['break_even_years'] > 0]\n",
    "\n",
    "#Now, get the 10 smallest (fastest) from that filtered list\n",
    "top_10_roi = positive_roi_df.nsmallest(10, 'break_even_years')\n",
    "\n",
    "#Create the bar plot\n",
    "plt.figure(figsize=(10, 6))\n",
    "sns.barplot(\n",
    "    data=top_10_roi,\n",
    "    x='break_even_years',\n",
    "    y='School' \n",
    ")\n",
    "plt.title('Top 10 Schools by Fastest (Positive) Break-Even Time')\n",
    "plt.xlabel('Years to Break Even')\n",
    "plt.ylabel('School')\n",
    "plt.show()"
   ]
  },
  {
   "cell_type": "markdown",
   "id": "c9f53a48",
   "metadata": {},
   "source": [
    "## **Visualize Top ROI Schools (Break-Even Time)**\n",
    "\n",
    "To identify the schools offering the quickest practical financial return, we must first filter out the schools with a negative break-even time (which, as discussed, represent an investment that is never paid back).\n",
    "\n",
    "### **Steps**:\n",
    "\n",
    "Filter: We create a new DataFrame, positive_roi_df, which contains only the institutions where the break_even_years is a positive number.\n",
    "\n",
    "Select Top 10: From this filtered list, we use .nsmallest(10, ...) to find the 10 schools with the fastest (lowest) positive payback periods.\n",
    "\n",
    "Plot: We then use seaborn to create a bar chart of these 10 schools.\n",
    "\n",
    "This visualization now clearly and logically displays the \"Top 10\" schools, showing the number of years required to pay back the educational investment purely from their median earnings premium."
   ]
  },
  {
   "cell_type": "code",
   "execution_count": null,
   "id": "ba8b5680",
   "metadata": {},
   "outputs": [
    {
     "data": {
      "image/png": "[encoded data removed]",
      "text/plain": [
       "<Figure size 1000x600 with 1 Axes>"
      ]
     },
     "metadata": {},
     "output_type": "display_data"
    }
   ],
   "source": [
    "#Create a scatter plot of cost vs. earnings premium with a line and 95% CI\n",
    "plt.figure(figsize=(10, 6))\n",
    "sns.regplot(\n",
    "    data=roi_df, \n",
    "    x='Total_Cost', \n",
    "    y='earn_premium',\n",
    "    line_kws={\"color\":\"red\"}\n",
    ")\n",
    "plt.title('Total Cost vs. 10-Year Earnings Premium (with Line of Best Fit)')\n",
    "plt.xlabel('Total Cost')\n",
    "plt.ylabel('Earnings Premium (10-Yr Median - HS Baseline)')\n",
    "plt.show()"
   ]
  },
  {
   "cell_type": "markdown",
   "id": "c3deac87",
   "metadata": {},
   "source": [
    "## **Visualize Cost vs. Earnings Premium Relationship**\n",
    "\n",
    "This scatter plot explores the relationship between the estimated Total_Cost of a degree (x-axis) and the calculated earn_premium (y-axis) for all schools in our cleaned dataset.\n",
    "\n",
    "We use seaborn's regplot, which automatically adds:\n",
    "\n",
    "A Line of Best Fit (Linear Regression Line): Shown in red, this line indicates the general trend. A positive slope suggests that, on average, higher-cost institutions tend to correlate with higher earnings premiums.\n",
    "\n",
    "A 95% Confidence Interval: The shaded area around the line represents the uncertainty in the estimated trend line. A wider band indicates more variability or less certainty in the relationship.\n",
    "\n",
    "This visualization helps understand if investing more in tuition generally corresponds to a higher earnings advantage over the baseline. The scatter of points also reveals the wide variation among individual institutions."
   ]
  },
  {
   "cell_type": "code",
   "execution_count": null,
   "id": "8fc32430",
   "metadata": {},
   "outputs": [
    {
     "data": {
      "application/vnd.plotly.v1+json": {
       "config": {
        "plotlyServerURL": "https://plot.ly"
       },
       "data": [
        {
         "coloraxis": "coloraxis",
         "geo": "geo",
         "hovertemplate": "State=%{location}<br>break_even_years=%{z}<extra></extra>",
         "locationmode": "USA-states",
         "locations": [
          "AK",
          "AL",
          "AR",
          "AS",
          "AZ",
          "CA",
          "CO",
          "CT",
          "DC",
          "DE",
          "FL",
          "FM",
          "GA",
          "GU",
          "HI",
          "IA",
          "ID",
          "IL",
          "IN",
          "KS",
          "KY",
          "LA",
          "MA",
          "MD",
          "ME",
          "MI",
          "MN",
          "MO",
          "MP",
          "MS",
          "MT",
          "NC",
          "ND",
          "NE",
          "NH",
          "NJ",
          "NM",
          "NV",
          "NY",
          "OH",
          "OK",
          "OR",
          "PA",
          "PR",
          "PW",
          "RI",
          "SC",
          "SD",
          "TN",
          "TX",
          "UT",
          "VA",
          "VI",
          "VT",
          "WA",
          "WI",
          "WV",
          "WY"
         ],
         "name": "",
         "type": "choropleth",
         "z": {
          "bdata": "XqsmGdjhREA5IdN1AZ8TQFPmHvlzKBbAkRTYpzIlAsBiBTGTHxkUwE414+n+/Oo/Jr6Di6wVG8BycIXorSwiQA7PROXmd/U/C0KEtbgCQEA7KdLPfdgPQEJ0Vllc+/u/w0VTCGHEKkDI6nAy7AAHwARAKTuIHwvAw/cG63SqQkB+YVjTKcROwFcG0APILolAUrqATQ3pP0BJlgK4xCBAQE7+jP+yoBzArD74GAiu/b/49qUpTRH1PzGvHvTHzhNA7gXtMjxIUsAkLf80i++BwIdQls1B2EzAA/1wqZyCO0D1J0evHnn+v2j5hDkaIyDAEPEFsSOnHkAs/xGxJfX/P5WfKhD0fBZAy1vL885IH0AbXM3Xd4pAQHAFA0vyQvk/TjDuysumI8DmPEVP/6A2wJXS5DgA/vC/fUz2FFMO9D+7r0jFQKg2wBd+M8eoPkBAW532B5uJ1T8HyPdtf/jIP7mOfvXeAADAM9Bn/c5kg8D0SWfrz0hAwHSs+l5DtDPAfbeXLn4RPMDw14RlJfxKwJEzPys02BtATAjrOvYcJUDTCrjuWHQawBQVlKkCkB9AMIfisFXhlT+Pnhpl/C5ZQAFCWXflAfg/0MTq0zwQFMA=",
          "dtype": "f8"
         }
        }
       ],
       "layout": {
        "coloraxis": {
         "cmax": 50,
         "cmin": 0,
         "colorbar": {
          "title": {
           "text": "break_even_years"
          }
         },
         "colorscale": [
          [
           0,
           "#fde725"
          ],
          [
           0.1111111111111111,
           "#b5de2b"
          ],
          [
           0.2222222222222222,
           "#6ece58"
          ],
          [
           0.3333333333333333,
           "#35b779"
          ],
          [
           0.4444444444444444,
           "#1f9e89"
          ],
          [
           0.5555555555555556,
           "#26828e"
          ],
          [
           0.6666666666666666,
           "#31688e"
          ],
          [
           0.7777777777777778,
           "#3e4989"
          ],
          [
           0.8888888888888888,
           "#482878"
          ],
          [
           1,
           "#440154"
          ]
         ]
        },
        "geo": {
         "center": {},
         "domain": {
          "x": [
           0,
           1
          ],
          "y": [
           0,
           1
          ]
         },
         "scope": "usa"
        },
        "legend": {
         "tracegroupgap": 0
        },
        "template": {
         "data": {
          "bar": [
           {
            "error_x": {
             "color": "#2a3f5f"
            },
            "error_y": {
             "color": "#2a3f5f"
            },
            "marker": {
             "line": {
              "color": "#E5ECF6",
              "width": 0.5
             },
             "pattern": {
              "fillmode": "overlay",
              "size": 10,
              "solidity": 0.2
             }
            },
            "type": "bar"
           }
          ],
          "barpolar": [
           {
            "marker": {
             "line": {
              "color": "#E5ECF6",
              "width": 0.5
             },
             "pattern": {
              "fillmode": "overlay",
              "size": 10,
              "solidity": 0.2
             }
            },
            "type": "barpolar"
           }
          ],
          "carpet": [
           {
            "aaxis": {
             "endlinecolor": "#2a3f5f",
             "gridcolor": "white",
             "linecolor": "white",
             "minorgridcolor": "white",
             "startlinecolor": "#2a3f5f"
            },
            "baxis": {
             "endlinecolor": "#2a3f5f",
             "gridcolor": "white",
             "linecolor": "white",
             "minorgridcolor": "white",
             "startlinecolor": "#2a3f5f"
            },
            "type": "carpet"
           }
          ],
          "choropleth": [
           {
            "colorbar": {
             "outlinewidth": 0,
             "ticks": ""
            },
            "type": "choropleth"
           }
          ],
          "contour": [
           {
            "colorbar": {
             "outlinewidth": 0,
             "ticks": ""
            },
            "colorscale": [
             [
              0,
              "#0d0887"
             ],
             [
              0.1111111111111111,
              "#46039f"
             ],
             [
              0.2222222222222222,
              "#7201a8"
             ],
             [
              0.3333333333333333,
              "#9c179e"
             ],
             [
              0.4444444444444444,
              "#bd3786"
             ],
             [
              0.5555555555555556,
              "#d8576b"
             ],
             [
              0.6666666666666666,
              "#ed7953"
             ],
             [
              0.7777777777777778,
              "#fb9f3a"
             ],
             [
              0.8888888888888888,
              "#fdca26"
             ],
             [
              1,
              "#f0f921"
             ]
            ],
            "type": "contour"
           }
          ],
          "contourcarpet": [
           {
            "colorbar": {
             "outlinewidth": 0,
             "ticks": ""
            },
            "type": "contourcarpet"
           }
          ],
          "heatmap": [
           {
            "colorbar": {
             "outlinewidth": 0,
             "ticks": ""
            },
            "colorscale": [
             [
              0,
              "#0d0887"
             ],
             [
              0.1111111111111111,
              "#46039f"
             ],
             [
              0.2222222222222222,
              "#7201a8"
             ],
             [
              0.3333333333333333,
              "#9c179e"
             ],
             [
              0.4444444444444444,
              "#bd3786"
             ],
             [
              0.5555555555555556,
              "#d8576b"
             ],
             [
              0.6666666666666666,
              "#ed7953"
             ],
             [
              0.7777777777777778,
              "#fb9f3a"
             ],
             [
              0.8888888888888888,
              "#fdca26"
             ],
             [
              1,
              "#f0f921"
             ]
            ],
            "type": "heatmap"
           }
          ],
          "histogram": [
           {
            "marker": {
             "pattern": {
              "fillmode": "overlay",
              "size": 10,
              "solidity": 0.2
             }
            },
            "type": "histogram"
           }
          ],
          "histogram2d": [
           {
            "colorbar": {
             "outlinewidth": 0,
             "ticks": ""
            },
            "colorscale": [
             [
              0,
              "#0d0887"
             ],
             [
              0.1111111111111111,
              "#46039f"
             ],
             [
              0.2222222222222222,
              "#7201a8"
             ],
             [
              0.3333333333333333,
              "#9c179e"
             ],
             [
              0.4444444444444444,
              "#bd3786"
             ],
             [
              0.5555555555555556,
              "#d8576b"
             ],
             [
              0.6666666666666666,
              "#ed7953"
             ],
             [
              0.7777777777777778,
              "#fb9f3a"
             ],
             [
              0.8888888888888888,
              "#fdca26"
             ],
             [
              1,
              "#f0f921"
             ]
            ],
            "type": "histogram2d"
           }
          ],
          "histogram2dcontour": [
           {
            "colorbar": {
             "outlinewidth": 0,
             "ticks": ""
            },
            "colorscale": [
             [
              0,
              "#0d0887"
             ],
             [
              0.1111111111111111,
              "#46039f"
             ],
             [
              0.2222222222222222,
              "#7201a8"
             ],
             [
              0.3333333333333333,
              "#9c179e"
             ],
             [
              0.4444444444444444,
              "#bd3786"
             ],
             [
              0.5555555555555556,
              "#d8576b"
             ],
             [
              0.6666666666666666,
              "#ed7953"
             ],
             [
              0.7777777777777778,
              "#fb9f3a"
             ],
             [
              0.8888888888888888,
              "#fdca26"
             ],
             [
              1,
              "#f0f921"
             ]
            ],
            "type": "histogram2dcontour"
           }
          ],
          "mesh3d": [
           {
            "colorbar": {
             "outlinewidth": 0,
             "ticks": ""
            },
            "type": "mesh3d"
           }
          ],
          "parcoords": [
           {
            "line": {
             "colorbar": {
              "outlinewidth": 0,
              "ticks": ""
             }
            },
            "type": "parcoords"
           }
          ],
          "pie": [
           {
            "automargin": true,
            "type": "pie"
           }
          ],
          "scatter": [
           {
            "fillpattern": {
             "fillmode": "overlay",
             "size": 10,
             "solidity": 0.2
            },
            "type": "scatter"
           }
          ],
          "scatter3d": [
           {
            "line": {
             "colorbar": {
              "outlinewidth": 0,
              "ticks": ""
             }
            },
            "marker": {
             "colorbar": {
              "outlinewidth": 0,
              "ticks": ""
             }
            },
            "type": "scatter3d"
           }
          ],
          "scattercarpet": [
           {
            "marker": {
             "colorbar": {
              "outlinewidth": 0,
              "ticks": ""
             }
            },
            "type": "scattercarpet"
           }
          ],
          "scattergeo": [
           {
            "marker": {
             "colorbar": {
              "outlinewidth": 0,
              "ticks": ""
             }
            },
            "type": "scattergeo"
           }
          ],
          "scattergl": [
           {
            "marker": {
             "colorbar": {
              "outlinewidth": 0,
              "ticks": ""
             }
            },
            "type": "scattergl"
           }
          ],
          "scattermap": [
           {
            "marker": {
             "colorbar": {
              "outlinewidth": 0,
              "ticks": ""
             }
            },
            "type": "scattermap"
           }
          ],
          "scattermapbox": [
           {
            "marker": {
             "colorbar": {
              "outlinewidth": 0,
              "ticks": ""
             }
            },
            "type": "scattermapbox"
           }
          ],
          "scatterpolar": [
           {
            "marker": {
             "colorbar": {
              "outlinewidth": 0,
              "ticks": ""
             }
            },
            "type": "scatterpolar"
           }
          ],
          "scatterpolargl": [
           {
            "marker": {
             "colorbar": {
              "outlinewidth": 0,
              "ticks": ""
             }
            },
            "type": "scatterpolargl"
           }
          ],
          "scatterternary": [
           {
            "marker": {
             "colorbar": {
              "outlinewidth": 0,
              "ticks": ""
             }
            },
            "type": "scatterternary"
           }
          ],
          "surface": [
           {
            "colorbar": {
             "outlinewidth": 0,
             "ticks": ""
            },
            "colorscale": [
             [
              0,
              "#0d0887"
             ],
             [
              0.1111111111111111,
              "#46039f"
             ],
             [
              0.2222222222222222,
              "#7201a8"
             ],
             [
              0.3333333333333333,
              "#9c179e"
             ],
             [
              0.4444444444444444,
              "#bd3786"
             ],
             [
              0.5555555555555556,
              "#d8576b"
             ],
             [
              0.6666666666666666,
              "#ed7953"
             ],
             [
              0.7777777777777778,
              "#fb9f3a"
             ],
             [
              0.8888888888888888,
              "#fdca26"
             ],
             [
              1,
              "#f0f921"
             ]
            ],
            "type": "surface"
           }
          ],
          "table": [
           {
            "cells": {
             "fill": {
              "color": "#EBF0F8"
             },
             "line": {
              "color": "white"
             }
            },
            "header": {
             "fill": {
              "color": "#C8D4E3"
             },
             "line": {
              "color": "white"
             }
            },
            "type": "table"
           }
          ]
         },
         "layout": {
          "annotationdefaults": {
           "arrowcolor": "#2a3f5f",
           "arrowhead": 0,
           "arrowwidth": 1
          },
          "autotypenumbers": "strict",
          "coloraxis": {
           "colorbar": {
            "outlinewidth": 0,
            "ticks": ""
           }
          },
          "colorscale": {
           "diverging": [
            [
             0,
             "#8e0152"
            ],
            [
             0.1,
             "#c51b7d"
            ],
            [
             0.2,
             "#de77ae"
            ],
            [
             0.3,
             "#f1b6da"
            ],
            [
             0.4,
             "#fde0ef"
            ],
            [
             0.5,
             "#f7f7f7"
            ],
            [
             0.6,
             "#e6f5d0"
            ],
            [
             0.7,
             "#b8e186"
            ],
            [
             0.8,
             "#7fbc41"
            ],
            [
             0.9,
             "#4d9221"
            ],
            [
             1,
             "#276419"
            ]
           ],
           "sequential": [
            [
             0,
             "#0d0887"
            ],
            [
             0.1111111111111111,
             "#46039f"
            ],
            [
             0.2222222222222222,
             "#7201a8"
            ],
            [
             0.3333333333333333,
             "#9c179e"
            ],
            [
             0.4444444444444444,
             "#bd3786"
            ],
            [
             0.5555555555555556,
             "#d8576b"
            ],
            [
             0.6666666666666666,
             "#ed7953"
            ],
            [
             0.7777777777777778,
             "#fb9f3a"
            ],
            [
             0.8888888888888888,
             "#fdca26"
            ],
            [
             1,
             "#f0f921"
            ]
           ],
           "sequentialminus": [
            [
             0,
             "#0d0887"
            ],
            [
             0.1111111111111111,
             "#46039f"
            ],
            [
             0.2222222222222222,
             "#7201a8"
            ],
            [
             0.3333333333333333,
             "#9c179e"
            ],
            [
             0.4444444444444444,
             "#bd3786"
            ],
            [
             0.5555555555555556,
             "#d8576b"
            ],
            [
             0.6666666666666666,
             "#ed7953"
            ],
            [
             0.7777777777777778,
             "#fb9f3a"
            ],
            [
             0.8888888888888888,
             "#fdca26"
            ],
            [
             1,
             "#f0f921"
            ]
           ]
          },
          "colorway": [
           "#636efa",
           "#EF553B",
           "#00cc96",
           "#ab63fa",
           "#FFA15A",
           "#19d3f3",
           "#FF6692",
           "#B6E880",
           "#FF97FF",
           "#FECB52"
          ],
          "font": {
           "color": "#2a3f5f"
          },
          "geo": {
           "bgcolor": "white",
           "lakecolor": "white",
           "landcolor": "#E5ECF6",
           "showlakes": true,
           "showland": true,
           "subunitcolor": "white"
          },
          "hoverlabel": {
           "align": "left"
          },
          "hovermode": "closest",
          "mapbox": {
           "style": "light"
          },
          "paper_bgcolor": "white",
          "plot_bgcolor": "#E5ECF6",
          "polar": {
           "angularaxis": {
            "gridcolor": "white",
            "linecolor": "white",
            "ticks": ""
           },
           "bgcolor": "#E5ECF6",
           "radialaxis": {
            "gridcolor": "white",
            "linecolor": "white",
            "ticks": ""
           }
          },
          "scene": {
           "xaxis": {
            "backgroundcolor": "#E5ECF6",
            "gridcolor": "white",
            "gridwidth": 2,
            "linecolor": "white",
            "showbackground": true,
            "ticks": "",
            "zerolinecolor": "white"
           },
           "yaxis": {
            "backgroundcolor": "#E5ECF6",
            "gridcolor": "white",
            "gridwidth": 2,
            "linecolor": "white",
            "showbackground": true,
            "ticks": "",
            "zerolinecolor": "white"
           },
           "zaxis": {
            "backgroundcolor": "#E5ECF6",
            "gridcolor": "white",
            "gridwidth": 2,
            "linecolor": "white",
            "showbackground": true,
            "ticks": "",
            "zerolinecolor": "white"
           }
          },
          "shapedefaults": {
           "line": {
            "color": "#2a3f5f"
           }
          },
          "ternary": {
           "aaxis": {
            "gridcolor": "white",
            "linecolor": "white",
            "ticks": ""
           },
           "baxis": {
            "gridcolor": "white",
            "linecolor": "white",
            "ticks": ""
           },
           "bgcolor": "#E5ECF6",
           "caxis": {
            "gridcolor": "white",
            "linecolor": "white",
            "ticks": ""
           }
          },
          "title": {
           "x": 0.05
          },
          "xaxis": {
           "automargin": true,
           "gridcolor": "white",
           "linecolor": "white",
           "ticks": "",
           "title": {
            "standoff": 15
           },
           "zerolinecolor": "white",
           "zerolinewidth": 2
          },
          "yaxis": {
           "automargin": true,
           "gridcolor": "white",
           "linecolor": "white",
           "ticks": "",
           "title": {
            "standoff": 15
           },
           "zerolinecolor": "white",
           "zerolinewidth": 2
          }
         }
        },
        "title": {
         "text": "Average Break-Even Years by State"
        }
       }
      }
     },
     "metadata": {},
     "output_type": "display_data"
    }
   ],
   "source": [
    "#1. Group by state and get the average ROI\n",
    "state_roi = roi_df.groupby('State')['break_even_years'].mean().reset_index()\n",
    "\n",
    "#2. Create the choropleth map\n",
    "fig = px.choropleth(\n",
    "    state_roi,\n",
    "    locations='State',\n",
    "    locationmode=\"USA-states\",\n",
    "    color='break_even_years',\n",
    "    color_continuous_scale=\"Viridis_r\",\n",
    "    scope=\"usa\",\n",
    "    title=\"Average Break-Even Years by State\",\n",
    "    range_color=[0, 50] \n",
    ")\n",
    "\n",
    "fig.show()"
   ]
  },
  {
   "cell_type": "markdown",
   "id": "82a395d0",
   "metadata": {},
   "source": [
    "## **Visualize Average ROI by State (Choropleth Map)**\n",
    "\n",
    "To see geographic trends, we create a choropleth map showing the average break_even_years for colleges within each US state.\n",
    "\n",
    "### **Steps**:\n",
    "\n",
    "Group by State: We group the roi_df DataFrame by the State column and calculate the mean (average) break_even_years for each state.\n",
    "\n",
    "Create Map: We use plotly.express to generate the map:\n",
    "\n",
    "locations='State' uses the state abbreviations for mapping.\n",
    "\n",
    "locationmode=\"USA-states\" tells Plotly to interpret locations as US states.\n",
    "\n",
    "color='break_even_years' assigns color intensity based on the average break-even time.\n",
    "\n",
    "color_continuous_scale=\"Viridis_r\" uses the Viridis color scale, reversed (_r) so that lower (better) break-even times appear in brighter/yellow colors and higher times are darker/purple.\n",
    "\n",
    "scope=\"usa\" focuses the map view on the United States.\n",
    "\n",
    "## Analysis of Average Break-Even Years by State\n",
    "\n",
    "This choropleth map visualizes the average break_even_years for institutions within each US state, highlighting geographic trends in the estimated return on investment. The color scale has been adjusted to emphasize the difference between positive and negative average ROIs.\n",
    "\n",
    "# How to Read This Map:\n",
    "\n",
    "The map uses a reversed color scale (\"Viridis_r\") with a defined range from 0 to 50 years.\n",
    "\n",
    "Bright Yellow (Negative or Zero): These states have an average break_even_years that is less than or equal to zero. A negative value indicates that, on average, the 10-year earnings premium for graduates in these states is below the national high school graduate baseline. Based on this model, the financial investment is never \"paid back\" by the earnings premium alone. Yellow specifically groups all these non-positive ROI states together.\n",
    "\n",
    "Green to Dark Purple (Positive Values): These states show a positive average break-even time, ranging from just above 0 years (lighter green) up to 50 years or more (dark purple). This gradient shows the variation in payback periods only among states where the average return is positive. States with an average break-even time greater than 50 years will appear as the darkest purple.\n",
    "\n",
    "## Key Observations:\n",
    "\n",
    "Negative ROI Regions: \n",
    "The bright yellow states (e.g., Wyoming, North Dakota, South Dakota, Iowa) are those where the average break_even_years is negative. This indicates that, on average, the 10-year median earnings for graduates from these states are lower than the national high school graduate baseline. Based on this model, the financial investment in the degree is never recouped through the earnings premium.\n",
    "\n",
    "Positive ROI Variation: \n",
    "Among the states with a positive average ROI, we can still see significant variation. States like Illinois remain dark purple, indicating relatively long payback periods compared to greener states like California or Washington, which show faster average positive returns.\n",
    "\n",
    "Clarity: \n",
    "This color mapping makes the distinction between never breaking even (yellow) and breaking even over some positive number of years (green-purple) much more distinct than the previous version.\n",
    "\n",
    "### Remember, these are state averages and subject to the limitations outlined in the README (national baseline, no major-specific data, simplified costs)."
   ]
  },
  {
   "cell_type": "markdown",
   "id": "6a9abbb0",
   "metadata": {},
   "source": [
    "# **Conclusion**\n",
    "\n",
    "This analysis calculated two ROI metrics (Earnings Premium and Break-Even Years) for US colleges based on College Scorecard data and national earnings benchmarks.\n",
    "\n",
    "## **Key Findings**:\n",
    "\n",
    "There is significant variation in estimated ROI across institutions. Some show a rapid break-even time, while others have a negative earnings premium relative to the high school baseline.\n",
    "\n",
    "Visualizations indicate a slight positive trend between total cost and earnings premium, although with considerable variance (shown by the scatter plot and confidence interval).\n",
    "\n",
    "Geographic differences exist, with some states showing lower average break-even times than others (shown by the choropleth map).\n",
    "\n",
    "## **Limitations**: \n",
    "This analysis relies on median earnings 10 years after entry and average cost estimates. It doesn't account for variations by major, individual student outcomes, time-to-graduation differences, or other non-financial benefits of education. The negative premiums and break-even times highlight potential limitations of applying these broad metrics universally."
   ]
  }
 ],
 "metadata": {
  "kernelspec": {
   "display_name": "Python 3",
   "language": "python",
   "name": "python3"
  },
  "language_info": {
   "codemirror_mode": {
    "name": "ipython",
    "version": 3
   },
   "file_extension": ".py",
   "mimetype": "text/x-python",
   "name": "python",
   "nbconvert_exporter": "python",
   "pygments_lexer": "ipython3",
   "version": "3.13.7"
  }
 },
 "nbformat": 4,
 "nbformat_minor": 5
}
